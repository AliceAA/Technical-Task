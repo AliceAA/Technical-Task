{
 "cells": [
  {
   "cell_type": "markdown",
   "metadata": {},
   "source": [
    "## Data loading and visualization"
   ]
  },
  {
   "cell_type": "code",
   "execution_count": 1,
   "metadata": {},
   "outputs": [],
   "source": [
    "#import libraries\n",
    "\n",
    "import pandas as pd\n",
    "import matplotlib.pyplot as plt"
   ]
  },
  {
   "cell_type": "code",
   "execution_count": 2,
   "metadata": {},
   "outputs": [
    {
     "data": {
      "text/html": [
       "<div>\n",
       "<style scoped>\n",
       "    .dataframe tbody tr th:only-of-type {\n",
       "        vertical-align: middle;\n",
       "    }\n",
       "\n",
       "    .dataframe tbody tr th {\n",
       "        vertical-align: top;\n",
       "    }\n",
       "\n",
       "    .dataframe thead th {\n",
       "        text-align: right;\n",
       "    }\n",
       "</style>\n",
       "<table border=\"1\" class=\"dataframe\">\n",
       "  <thead>\n",
       "    <tr style=\"text-align: right;\">\n",
       "      <th></th>\n",
       "      <th>id</th>\n",
       "      <th>user_id</th>\n",
       "      <th>tutor_id</th>\n",
       "    </tr>\n",
       "  </thead>\n",
       "  <tbody>\n",
       "    <tr>\n",
       "      <th>0</th>\n",
       "      <td>1</td>\n",
       "      <td>00000055a78bf6735c4a89358fab1de34104c3cb</td>\n",
       "      <td>e78de9dad70d230a096f0bbdc3e89b5cae04ba77</td>\n",
       "    </tr>\n",
       "    <tr>\n",
       "      <th>1</th>\n",
       "      <td>2</td>\n",
       "      <td>00000055a78bf6735c4a89358fab1de34104c3cb</td>\n",
       "      <td>b9a521730141de9bc4fe8ebc9f33713411d0101a</td>\n",
       "    </tr>\n",
       "    <tr>\n",
       "      <th>2</th>\n",
       "      <td>3</td>\n",
       "      <td>00000055a78bf6735c4a89358fab1de34104c3cb</td>\n",
       "      <td>8378136c6dd0e03be859a210a0cee03955951fb1</td>\n",
       "    </tr>\n",
       "    <tr>\n",
       "      <th>3</th>\n",
       "      <td>4</td>\n",
       "      <td>00000055a78bf6735c4a89358fab1de34104c3cb</td>\n",
       "      <td>9cc68d8345f675892bcab0fad02f65b4ac7e71ea</td>\n",
       "    </tr>\n",
       "    <tr>\n",
       "      <th>4</th>\n",
       "      <td>5</td>\n",
       "      <td>00000055a78bf6735c4a89358fab1de34104c3cb</td>\n",
       "      <td>a8272c62cd05d5b882e4f630fb55cfa0ba8491e6</td>\n",
       "    </tr>\n",
       "  </tbody>\n",
       "</table>\n",
       "</div>"
      ],
      "text/plain": [
       "   id                                   user_id  \\\n",
       "0   1  00000055a78bf6735c4a89358fab1de34104c3cb   \n",
       "1   2  00000055a78bf6735c4a89358fab1de34104c3cb   \n",
       "2   3  00000055a78bf6735c4a89358fab1de34104c3cb   \n",
       "3   4  00000055a78bf6735c4a89358fab1de34104c3cb   \n",
       "4   5  00000055a78bf6735c4a89358fab1de34104c3cb   \n",
       "\n",
       "                                   tutor_id  \n",
       "0  e78de9dad70d230a096f0bbdc3e89b5cae04ba77  \n",
       "1  b9a521730141de9bc4fe8ebc9f33713411d0101a  \n",
       "2  8378136c6dd0e03be859a210a0cee03955951fb1  \n",
       "3  9cc68d8345f675892bcab0fad02f65b4ac7e71ea  \n",
       "4  a8272c62cd05d5b882e4f630fb55cfa0ba8491e6  "
      ]
     },
     "execution_count": 2,
     "metadata": {},
     "output_type": "execute_result"
    }
   ],
   "source": [
    "# read a dataframe located at csv file and \n",
    "# converte to pandas dataframe format\n",
    "\n",
    "df = pd.read_csv('Preply_tutor_views_datasaet.csv')\n",
    "df = pd.DataFrame(df)\n",
    "df.head(5)"
   ]
  },
  {
   "cell_type": "code",
   "execution_count": 3,
   "metadata": {},
   "outputs": [
    {
     "data": {
      "text/plain": [
       "Text(0.5, 1.0, 'Number of tutors by received number of views')"
      ]
     },
     "execution_count": 3,
     "metadata": {},
     "output_type": "execute_result"
    },
    {
     "data": {
      "image/png": "[encoded data removed]",
      "text/plain": [
       "<Figure size 432x288 with 1 Axes>"
      ]
     },
     "metadata": {
      "needs_background": "light"
     },
     "output_type": "display_data"
    }
   ],
   "source": [
    "# Plot number of tutors by received number of views.\n",
    "# In given dataset tutors commonly receive less than 20 views\n",
    "# there are no extreme outliers.\n",
    "\n",
    "dist = df['tutor_id'].value_counts().values\n",
    "\n",
    "n, bins, patches = plt.hist(x=dist, bins='auto', rwidth=0.9)\n",
    "plt.xlabel('Number of views')\n",
    "plt.ylabel('Number of tutors')\n",
    "plt.title('Number of tutors by received number of views')"
   ]
  },
  {
   "cell_type": "code",
   "execution_count": 4,
   "metadata": {},
   "outputs": [
    {
     "data": {
      "text/plain": [
       "Text(0.5, 1.0, 'Number of users by number of tuter they viewed')"
      ]
     },
     "execution_count": 4,
     "metadata": {},
     "output_type": "execute_result"
    },
    {
     "data": {
      "image/png": "[encoded data removed]",
      "text/plain": [
       "<Figure size 432x288 with 1 Axes>"
      ]
     },
     "metadata": {
      "needs_background": "light"
     },
     "output_type": "display_data"
    }
   ],
   "source": [
    "# Plot number of users by number of tutor they viewed.\n",
    "# In given dataset users commonly watch several tutor\n",
    "# but there are extreme outliers.\n",
    "\n",
    "dist = df['user_id'].value_counts().values\n",
    "\n",
    "n, bins, patches = plt.hist(x=dist, bins='auto', rwidth=0.9)\n",
    "plt.xlabel('Number of views')\n",
    "plt.ylabel('Number of users')\n",
    "plt.title('Number of users by number of tuter they viewed')"
   ]
  },
  {
   "cell_type": "markdown",
   "metadata": {},
   "source": [
    "## Straigforward implementation"
   ]
  },
  {
   "cell_type": "code",
   "execution_count": 5,
   "metadata": {},
   "outputs": [],
   "source": [
    "#“users that viewed this tutor also viewed...”\n",
    "\n",
    "def also_viewed (df, tutor_id): \n",
    "    # we will receive a dataset and tutor for which we need to develop a new section\n",
    "    users_that_viewed = df[df['tutor_id']==tutor_id]['user_id'].values # define users who viewed given tutor\n",
    "    \n",
    "    try: # let's see wheather \"users_that_viewed\" as well viewed other tutors\n",
    "        tutor_viewed = pd.DataFrame(df[df['user_id']==users_that_viewed[0]]['tutor_id'])\n",
    "        for i in range (1,len(users_that_viewed)):\n",
    "            tutor_viewed = tutor_viewed.append(pd.DataFrame(df[df['user_id']==users_that_viewed[i]]['tutor_id']))\n",
    "            # for each user in \"users_that_viewed\" adding to \"tutor_viewed\" tutor they viewed\n",
    "            # as many times as they did it\n",
    "            \n",
    "        tutor_viewed = tutor_viewed[tutor_viewed['tutor_id']!=tutor_id] # deleating from \"tutor_viewed\" initial tutor\n",
    "        tutor_viewed = pd.value_counts(tutor_viewed['tutor_id'].values)[:10] # select top-10 \"also viewed\"\n",
    "        tutor_viewed = pd.DataFrame({'tutor_id':tutor_viewed.index,\n",
    "                                     'n_views': tutor_viewed.values}) # assigne nice names to columns\n",
    "    except: #if \"users_that_viewed\" did not view other tutor\n",
    "        tutor_viewed = pd.DataFrame() # create empty dataset\n",
    "        \n",
    "    if len(tutor_viewed)<10: # if there are less than 10 tutors in generated top-10 \"also viewed\"\n",
    "        most_popular = pd.value_counts(df['tutor_id'].values)[:10] # choose top-10 the most popular users\n",
    "        most_popular = pd.DataFrame({'tutor_id':most_popular.index,\n",
    "                                     'n_views': most_popular.values}) # assigne nice names to columns\n",
    "        tutor_viewed = tutor_viewed.append(most_popular) # append the most popular to the bottom of \"also viewed\"\n",
    "        \n",
    "    return tutor_viewed[:10]"
   ]
  },
  {
   "cell_type": "markdown",
   "metadata": {},
   "source": [
    "1. Which tutors will your recommendation engine return given the tutor_id “ff0d3fb21c00bc33f71187a2beec389e9eff5332”? \n",
    "Will it work for any tutor_id of the dataset?"
   ]
  },
  {
   "cell_type": "code",
   "execution_count": 6,
   "metadata": {},
   "outputs": [
    {
     "data": {
      "text/html": [
       "<div>\n",
       "<style scoped>\n",
       "    .dataframe tbody tr th:only-of-type {\n",
       "        vertical-align: middle;\n",
       "    }\n",
       "\n",
       "    .dataframe tbody tr th {\n",
       "        vertical-align: top;\n",
       "    }\n",
       "\n",
       "    .dataframe thead th {\n",
       "        text-align: right;\n",
       "    }\n",
       "</style>\n",
       "<table border=\"1\" class=\"dataframe\">\n",
       "  <thead>\n",
       "    <tr style=\"text-align: right;\">\n",
       "      <th></th>\n",
       "      <th>tutor_id</th>\n",
       "      <th>n_views</th>\n",
       "    </tr>\n",
       "  </thead>\n",
       "  <tbody>\n",
       "    <tr>\n",
       "      <th>0</th>\n",
       "      <td>6b0cd6a8094daf42e766ea257a2af3571831bb32</td>\n",
       "      <td>9</td>\n",
       "    </tr>\n",
       "    <tr>\n",
       "      <th>1</th>\n",
       "      <td>7ee223009403f7450993fe5d79516f1fc841e75e</td>\n",
       "      <td>9</td>\n",
       "    </tr>\n",
       "    <tr>\n",
       "      <th>2</th>\n",
       "      <td>340f1eaf7ad0c07f1491338ab68cbcab30c315ec</td>\n",
       "      <td>8</td>\n",
       "    </tr>\n",
       "    <tr>\n",
       "      <th>3</th>\n",
       "      <td>bdf147e99ee57500eb2dabcbf3cfa24e1daef357</td>\n",
       "      <td>7</td>\n",
       "    </tr>\n",
       "    <tr>\n",
       "      <th>4</th>\n",
       "      <td>0d3dc58ead1aa17dcc7d6481215d0e940f1cedad</td>\n",
       "      <td>7</td>\n",
       "    </tr>\n",
       "    <tr>\n",
       "      <th>5</th>\n",
       "      <td>c093b1743115b3f9d368b2f7bdf54f367afccc7c</td>\n",
       "      <td>5</td>\n",
       "    </tr>\n",
       "    <tr>\n",
       "      <th>6</th>\n",
       "      <td>f75cd7a7339a029b9f1aef886f3ea9ddeb0a4525</td>\n",
       "      <td>5</td>\n",
       "    </tr>\n",
       "    <tr>\n",
       "      <th>7</th>\n",
       "      <td>85ef93bda0f7fb6327bd1b5ad44da26246b4360d</td>\n",
       "      <td>5</td>\n",
       "    </tr>\n",
       "    <tr>\n",
       "      <th>8</th>\n",
       "      <td>e9ee460fac3c729a7de68f933621a117878dad2d</td>\n",
       "      <td>5</td>\n",
       "    </tr>\n",
       "    <tr>\n",
       "      <th>9</th>\n",
       "      <td>61bc35a6401829bd28a8da47a2f235944ba8d2df</td>\n",
       "      <td>5</td>\n",
       "    </tr>\n",
       "  </tbody>\n",
       "</table>\n",
       "</div>"
      ],
      "text/plain": [
       "                                   tutor_id  n_views\n",
       "0  6b0cd6a8094daf42e766ea257a2af3571831bb32        9\n",
       "1  7ee223009403f7450993fe5d79516f1fc841e75e        9\n",
       "2  340f1eaf7ad0c07f1491338ab68cbcab30c315ec        8\n",
       "3  bdf147e99ee57500eb2dabcbf3cfa24e1daef357        7\n",
       "4  0d3dc58ead1aa17dcc7d6481215d0e940f1cedad        7\n",
       "5  c093b1743115b3f9d368b2f7bdf54f367afccc7c        5\n",
       "6  f75cd7a7339a029b9f1aef886f3ea9ddeb0a4525        5\n",
       "7  85ef93bda0f7fb6327bd1b5ad44da26246b4360d        5\n",
       "8  e9ee460fac3c729a7de68f933621a117878dad2d        5\n",
       "9  61bc35a6401829bd28a8da47a2f235944ba8d2df        5"
      ]
     },
     "execution_count": 6,
     "metadata": {},
     "output_type": "execute_result"
    }
   ],
   "source": [
    "tutor_viewed = also_viewed (df, \"ff0d3fb21c00bc33f71187a2beec389e9eff5332\")\n",
    "tutor_viewed"
   ]
  },
  {
   "cell_type": "code",
   "execution_count": 7,
   "metadata": {},
   "outputs": [
    {
     "data": {
      "text/html": [
       "<div>\n",
       "<style scoped>\n",
       "    .dataframe tbody tr th:only-of-type {\n",
       "        vertical-align: middle;\n",
       "    }\n",
       "\n",
       "    .dataframe tbody tr th {\n",
       "        vertical-align: top;\n",
       "    }\n",
       "\n",
       "    .dataframe thead th {\n",
       "        text-align: right;\n",
       "    }\n",
       "</style>\n",
       "<table border=\"1\" class=\"dataframe\">\n",
       "  <thead>\n",
       "    <tr style=\"text-align: right;\">\n",
       "      <th></th>\n",
       "      <th>tutor_id</th>\n",
       "      <th>n_views</th>\n",
       "    </tr>\n",
       "  </thead>\n",
       "  <tbody>\n",
       "    <tr>\n",
       "      <th>0</th>\n",
       "      <td>43bea90ae6ae07bea8ca57511f0378f3a8b08b96</td>\n",
       "      <td>9</td>\n",
       "    </tr>\n",
       "    <tr>\n",
       "      <th>1</th>\n",
       "      <td>85ef93bda0f7fb6327bd1b5ad44da26246b4360d</td>\n",
       "      <td>8</td>\n",
       "    </tr>\n",
       "    <tr>\n",
       "      <th>2</th>\n",
       "      <td>6ff6c10e2a8df1888ba1d4b9429ed5e1e976a33d</td>\n",
       "      <td>8</td>\n",
       "    </tr>\n",
       "    <tr>\n",
       "      <th>3</th>\n",
       "      <td>c093b1743115b3f9d368b2f7bdf54f367afccc7c</td>\n",
       "      <td>8</td>\n",
       "    </tr>\n",
       "    <tr>\n",
       "      <th>4</th>\n",
       "      <td>0d3dc58ead1aa17dcc7d6481215d0e940f1cedad</td>\n",
       "      <td>7</td>\n",
       "    </tr>\n",
       "    <tr>\n",
       "      <th>5</th>\n",
       "      <td>61bc35a6401829bd28a8da47a2f235944ba8d2df</td>\n",
       "      <td>7</td>\n",
       "    </tr>\n",
       "    <tr>\n",
       "      <th>6</th>\n",
       "      <td>e6478733e3060fc27c3426819ce3aa0e53c5b7b6</td>\n",
       "      <td>7</td>\n",
       "    </tr>\n",
       "    <tr>\n",
       "      <th>7</th>\n",
       "      <td>d7b1907c073ce2623c3e507c641cf1da0814d950</td>\n",
       "      <td>7</td>\n",
       "    </tr>\n",
       "    <tr>\n",
       "      <th>8</th>\n",
       "      <td>bdf147e99ee57500eb2dabcbf3cfa24e1daef357</td>\n",
       "      <td>5</td>\n",
       "    </tr>\n",
       "    <tr>\n",
       "      <th>9</th>\n",
       "      <td>0cbb51f1f43646c1718553da0c5864d4e1a6f037</td>\n",
       "      <td>5</td>\n",
       "    </tr>\n",
       "  </tbody>\n",
       "</table>\n",
       "</div>"
      ],
      "text/plain": [
       "                                   tutor_id  n_views\n",
       "0  43bea90ae6ae07bea8ca57511f0378f3a8b08b96        9\n",
       "1  85ef93bda0f7fb6327bd1b5ad44da26246b4360d        8\n",
       "2  6ff6c10e2a8df1888ba1d4b9429ed5e1e976a33d        8\n",
       "3  c093b1743115b3f9d368b2f7bdf54f367afccc7c        8\n",
       "4  0d3dc58ead1aa17dcc7d6481215d0e940f1cedad        7\n",
       "5  61bc35a6401829bd28a8da47a2f235944ba8d2df        7\n",
       "6  e6478733e3060fc27c3426819ce3aa0e53c5b7b6        7\n",
       "7  d7b1907c073ce2623c3e507c641cf1da0814d950        7\n",
       "8  bdf147e99ee57500eb2dabcbf3cfa24e1daef357        5\n",
       "9  0cbb51f1f43646c1718553da0c5864d4e1a6f037        5"
      ]
     },
     "execution_count": 7,
     "metadata": {},
     "output_type": "execute_result"
    }
   ],
   "source": [
    "also_viewed (df, \"b9a521730141de9bc4fe8ebc9f33713411d0101a\")"
   ]
  },
  {
   "cell_type": "markdown",
   "metadata": {},
   "source": [
    "## Predicte tutors"
   ]
  },
  {
   "cell_type": "code",
   "execution_count": 8,
   "metadata": {},
   "outputs": [],
   "source": [
    "# import libraries\n",
    "\n",
    "import sklearn \n",
    "import numpy as np\n",
    "from sklearn.model_selection import train_test_split"
   ]
  },
  {
   "cell_type": "code",
   "execution_count": 9,
   "metadata": {},
   "outputs": [],
   "source": [
    "# divide dataset to train and test\n",
    "\n",
    "df, test_data = train_test_split(df, test_size=0.20)"
   ]
  },
  {
   "cell_type": "code",
   "execution_count": 10,
   "metadata": {},
   "outputs": [],
   "source": [
    "# make prediction for each tutor at train set\n",
    "# and storing result at \"result\"\n",
    "\n",
    "result = pd.DataFrame()\n",
    "for i in test_data['tutor_id']:\n",
    "    tutor_viewed = also_viewed (df, i)\n",
    "    result = result.append(tutor_viewed)"
   ]
  },
  {
   "cell_type": "code",
   "execution_count": 11,
   "metadata": {},
   "outputs": [
    {
     "name": "stdout",
     "output_type": "stream",
     "text": [
      "Coverage:  89.08\n"
     ]
    }
   ],
   "source": [
    "# calculate a percent of tutors in the training data the model recommends on a test set\n",
    "\n",
    "print(\"Coverage: \", np.round(result['tutor_id'].nunique()/df['tutor_id'].nunique()*100,2))"
   ]
  },
  {
   "cell_type": "code",
   "execution_count": 12,
   "metadata": {},
   "outputs": [
    {
     "data": {
      "text/plain": [
       "Text(0.5, 1.0, 'Number of tutors by received number of recomendations')"
      ]
     },
     "execution_count": 12,
     "metadata": {},
     "output_type": "execute_result"
    },
    {
     "data": {
      "image/png": "[encoded data removed]",
      "text/plain": [
       "<Figure size 432x288 with 1 Axes>"
      ]
     },
     "metadata": {
      "needs_background": "light"
     },
     "output_type": "display_data"
    }
   ],
   "source": [
    "# plot number of tutors by number of tuter they viewed\n",
    "# in given dataset users commonly watch several tutor\n",
    "# but there are extreme outliers\n",
    "\n",
    "dist = result['tutor_id'].value_counts().values\n",
    "\n",
    "n, bins, patches = plt.hist(x=dist, bins='auto', rwidth=0.9)\n",
    "plt.xlabel('Number of tutors')\n",
    "plt.ylabel('Number of recomendations')\n",
    "plt.title('Number of tutors by received number of recomendations')"
   ]
  }
 ],
 "metadata": {
  "kernelspec": {
   "display_name": "Python 3",
   "language": "python",
   "name": "python3"
  },
  "language_info": {
   "codemirror_mode": {
    "name": "ipython",
    "version": 3
   },
   "file_extension": ".py",
   "mimetype": "text/x-python",
   "name": "python",
   "nbconvert_exporter": "python",
   "pygments_lexer": "ipython3",
   "version": "3.7.3"
  }
 },
 "nbformat": 4,
 "nbformat_minor": 2
}
